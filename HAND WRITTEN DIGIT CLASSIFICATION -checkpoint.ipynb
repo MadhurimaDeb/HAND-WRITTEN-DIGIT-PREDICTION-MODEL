{
 "cells": [
  {
   "cell_type": "code",
   "execution_count": 2,
   "id": "213c8cac",
   "metadata": {},
   "outputs": [],
   "source": [
    "import pandas as pd\n",
    "import numpy as np\n",
    "import matplotlib.pyplot as plt\n",
    "import seaborn as sns"
   ]
  },
  {
   "cell_type": "code",
   "execution_count": 5,
   "id": "85f6f69b",
   "metadata": {},
   "outputs": [],
   "source": [
    "from sklearn.datasets import load_digits"
   ]
  },
  {
   "cell_type": "code",
   "execution_count": 7,
   "id": "80cd9ea3",
   "metadata": {},
   "outputs": [],
   "source": [
    "df = load_digits()\n"
   ]
  },
  {
   "cell_type": "code",
   "execution_count": 9,
   "id": "1687ac90",
   "metadata": {},
   "outputs": [
    {
     "data": {
      "image/png": "[encoded data removed]",
      "text/plain": [
       "<Figure size 720x216 with 4 Axes>"
      ]
     },
     "metadata": {
      "needs_background": "light"
     },
     "output_type": "display_data"
    }
   ],
   "source": [
    "_, axes = plt.subplots(nrows = 1, ncols = 4, figsize = (10,3))\n",
    "for ax, image, label in zip (axes, df.images, df.target):\n",
    "    ax.set_axis_off()\n",
    "    ax.imshow(image, cmap = plt.cm.gray_r, interpolation = \"nearest\")\n",
    "    ax.set_title(\"Training: %i\" % label)\n",
    "    "
   ]
  },
  {
   "cell_type": "markdown",
   "id": "793d4460",
   "metadata": {},
   "source": [
    "## DATA PROCESSING"
   ]
  },
  {
   "cell_type": "code",
   "execution_count": 10,
   "id": "8ad3ca3b",
   "metadata": {},
   "outputs": [
    {
     "data": {
      "text/plain": [
       "(1797, 8, 8)"
      ]
     },
     "execution_count": 10,
     "metadata": {},
     "output_type": "execute_result"
    }
   ],
   "source": [
    "df.images.shape"
   ]
  },
  {
   "cell_type": "code",
   "execution_count": 12,
   "id": "8f2287cb",
   "metadata": {},
   "outputs": [
    {
     "data": {
      "text/plain": [
       "array([[ 0.,  0.,  5., 13.,  9.,  1.,  0.,  0.],\n",
       "       [ 0.,  0., 13., 15., 10., 15.,  5.,  0.],\n",
       "       [ 0.,  3., 15.,  2.,  0., 11.,  8.,  0.],\n",
       "       [ 0.,  4., 12.,  0.,  0.,  8.,  8.,  0.],\n",
       "       [ 0.,  5.,  8.,  0.,  0.,  9.,  8.,  0.],\n",
       "       [ 0.,  4., 11.,  0.,  1., 12.,  7.,  0.],\n",
       "       [ 0.,  2., 14.,  5., 10., 12.,  0.,  0.],\n",
       "       [ 0.,  0.,  6., 13., 10.,  0.,  0.,  0.]])"
      ]
     },
     "execution_count": 12,
     "metadata": {},
     "output_type": "execute_result"
    }
   ],
   "source": [
    "df.images[0]"
   ]
  },
  {
   "cell_type": "code",
   "execution_count": 13,
   "id": "66af077d",
   "metadata": {},
   "outputs": [
    {
     "data": {
      "text/plain": [
       "(8, 8)"
      ]
     },
     "execution_count": 13,
     "metadata": {},
     "output_type": "execute_result"
    }
   ],
   "source": [
    "df.images[0].shape"
   ]
  },
  {
   "cell_type": "code",
   "execution_count": 15,
   "id": "cb714fda",
   "metadata": {},
   "outputs": [
    {
     "data": {
      "text/plain": [
       "1797"
      ]
     },
     "execution_count": 15,
     "metadata": {},
     "output_type": "execute_result"
    }
   ],
   "source": [
    "len(df.images)"
   ]
  },
  {
   "cell_type": "code",
   "execution_count": 16,
   "id": "9b1ea770",
   "metadata": {},
   "outputs": [
    {
     "data": {
      "text/plain": [
       "array([ 0.,  0.,  5., 13.,  9.,  1.,  0.,  0.,  0.,  0., 13., 15., 10.,\n",
       "       15.,  5.,  0.,  0.,  3., 15.,  2.,  0., 11.,  8.,  0.,  0.,  4.,\n",
       "       12.,  0.,  0.,  8.,  8.,  0.,  0.,  5.,  8.,  0.,  0.,  9.,  8.,\n",
       "        0.,  0.,  4., 11.,  0.,  1., 12.,  7.,  0.,  0.,  2., 14.,  5.,\n",
       "       10., 12.,  0.,  0.,  0.,  0.,  6., 13., 10.,  0.,  0.,  0.])"
      ]
     },
     "execution_count": 16,
     "metadata": {},
     "output_type": "execute_result"
    }
   ],
   "source": [
    "n_samples = len(df.images)\n",
    "data = df.images.reshape((n_samples, -1))\n",
    "data[0]"
   ]
  },
  {
   "cell_type": "code",
   "execution_count": 17,
   "id": "4c6bdba3",
   "metadata": {},
   "outputs": [
    {
     "data": {
      "text/plain": [
       "(64,)"
      ]
     },
     "execution_count": 17,
     "metadata": {},
     "output_type": "execute_result"
    }
   ],
   "source": [
    "data[0].shape"
   ]
  },
  {
   "cell_type": "code",
   "execution_count": 18,
   "id": "f4d47d11",
   "metadata": {},
   "outputs": [
    {
     "data": {
      "text/plain": [
       "(1797, 64)"
      ]
     },
     "execution_count": 18,
     "metadata": {},
     "output_type": "execute_result"
    }
   ],
   "source": [
    "data.shape\n"
   ]
  },
  {
   "cell_type": "markdown",
   "id": "38d60633",
   "metadata": {},
   "source": [
    "## SCALING IMAGE DATA"
   ]
  },
  {
   "cell_type": "code",
   "execution_count": 19,
   "id": "9c08424a",
   "metadata": {},
   "outputs": [
    {
     "data": {
      "text/plain": [
       "0.0"
      ]
     },
     "execution_count": 19,
     "metadata": {},
     "output_type": "execute_result"
    }
   ],
   "source": [
    "data.min()"
   ]
  },
  {
   "cell_type": "code",
   "execution_count": 20,
   "id": "82e2b106",
   "metadata": {},
   "outputs": [
    {
     "data": {
      "text/plain": [
       "16.0"
      ]
     },
     "execution_count": 20,
     "metadata": {},
     "output_type": "execute_result"
    }
   ],
   "source": [
    "data.max()"
   ]
  },
  {
   "cell_type": "code",
   "execution_count": 21,
   "id": "902f2636",
   "metadata": {},
   "outputs": [],
   "source": [
    "data = data/16"
   ]
  },
  {
   "cell_type": "code",
   "execution_count": 22,
   "id": "cc6ca2b9",
   "metadata": {},
   "outputs": [
    {
     "data": {
      "text/plain": [
       "0.0"
      ]
     },
     "execution_count": 22,
     "metadata": {},
     "output_type": "execute_result"
    }
   ],
   "source": [
    "data.min()"
   ]
  },
  {
   "cell_type": "code",
   "execution_count": 23,
   "id": "05869161",
   "metadata": {},
   "outputs": [
    {
     "data": {
      "text/plain": [
       "1.0"
      ]
     },
     "execution_count": 23,
     "metadata": {},
     "output_type": "execute_result"
    }
   ],
   "source": [
    "data.max()"
   ]
  },
  {
   "cell_type": "code",
   "execution_count": 24,
   "id": "87d8f5c5",
   "metadata": {},
   "outputs": [
    {
     "data": {
      "text/plain": [
       "array([0.    , 0.    , 0.3125, 0.8125, 0.5625, 0.0625, 0.    , 0.    ,\n",
       "       0.    , 0.    , 0.8125, 0.9375, 0.625 , 0.9375, 0.3125, 0.    ,\n",
       "       0.    , 0.1875, 0.9375, 0.125 , 0.    , 0.6875, 0.5   , 0.    ,\n",
       "       0.    , 0.25  , 0.75  , 0.    , 0.    , 0.5   , 0.5   , 0.    ,\n",
       "       0.    , 0.3125, 0.5   , 0.    , 0.    , 0.5625, 0.5   , 0.    ,\n",
       "       0.    , 0.25  , 0.6875, 0.    , 0.0625, 0.75  , 0.4375, 0.    ,\n",
       "       0.    , 0.125 , 0.875 , 0.3125, 0.625 , 0.75  , 0.    , 0.    ,\n",
       "       0.    , 0.    , 0.375 , 0.8125, 0.625 , 0.    , 0.    , 0.    ])"
      ]
     },
     "execution_count": 24,
     "metadata": {},
     "output_type": "execute_result"
    }
   ],
   "source": [
    "data[0]"
   ]
  },
  {
   "cell_type": "markdown",
   "id": "d960df2c",
   "metadata": {},
   "source": [
    "## TRAIN TEST SPLIT"
   ]
  },
  {
   "cell_type": "code",
   "execution_count": 26,
   "id": "4e6f4b63",
   "metadata": {},
   "outputs": [
    {
     "data": {
      "text/plain": [
       "((1257, 64), (540, 64), (1257,), (540,))"
      ]
     },
     "execution_count": 26,
     "metadata": {},
     "output_type": "execute_result"
    }
   ],
   "source": [
    "from sklearn.model_selection import train_test_split\n",
    "X_train,X_test,y_train,y_test = train_test_split(data, df.target, test_size = 0.3)\n",
    "X_train.shape, X_test.shape, y_train.shape, y_test.shape "
   ]
  },
  {
   "cell_type": "markdown",
   "id": "11056ce3",
   "metadata": {},
   "source": [
    "## RANDOM FOREST MODEL TRAINING "
   ]
  },
  {
   "cell_type": "code",
   "execution_count": 28,
   "id": "68de3298",
   "metadata": {},
   "outputs": [
    {
     "data": {
      "text/plain": [
       "RandomForestClassifier()"
      ]
     },
     "execution_count": 28,
     "metadata": {},
     "output_type": "execute_result"
    }
   ],
   "source": [
    "from sklearn.ensemble import RandomForestClassifier\n",
    "rf = RandomForestClassifier()\n",
    "rf.fit(X_train, y_train)"
   ]
  },
  {
   "cell_type": "markdown",
   "id": "ac1030c0",
   "metadata": {},
   "source": [
    "## PREDICT TEST DATA"
   ]
  },
  {
   "cell_type": "code",
   "execution_count": 30,
   "id": "8b553aed",
   "metadata": {},
   "outputs": [
    {
     "data": {
      "text/plain": [
       "array([4, 9, 0, 4, 5, 6, 9, 8, 6, 9, 9, 4, 4, 8, 3, 3, 5, 8, 9, 8, 3, 0,\n",
       "       8, 0, 4, 1, 2, 9, 3, 7, 0, 5, 8, 4, 7, 7, 4, 1, 4, 2, 5, 2, 8, 2,\n",
       "       0, 7, 1, 2, 2, 3, 9, 7, 9, 0, 4, 3, 6, 2, 6, 2, 3, 6, 1, 3, 2, 1,\n",
       "       9, 9, 1, 8, 9, 2, 4, 9, 4, 8, 7, 0, 7, 6, 5, 9, 9, 6, 3, 0, 2, 0,\n",
       "       9, 4, 5, 9, 9, 7, 0, 7, 3, 0, 9, 0, 0, 6, 4, 1, 9, 5, 2, 4, 1, 3,\n",
       "       9, 8, 4, 2, 1, 5, 2, 8, 9, 6, 1, 8, 1, 2, 5, 0, 9, 3, 0, 7, 1, 3,\n",
       "       1, 4, 7, 7, 3, 8, 4, 5, 3, 6, 1, 4, 8, 1, 6, 0, 1, 0, 0, 0, 5, 9,\n",
       "       4, 4, 8, 9, 8, 3, 1, 2, 6, 8, 8, 1, 0, 9, 3, 0, 6, 8, 6, 2, 7, 0,\n",
       "       9, 3, 0, 7, 7, 1, 6, 1, 0, 1, 1, 2, 0, 6, 3, 5, 9, 5, 0, 9, 3, 3,\n",
       "       3, 0, 4, 3, 0, 6, 5, 9, 3, 8, 1, 3, 9, 1, 0, 4, 5, 0, 4, 6, 5, 7,\n",
       "       8, 8, 7, 2, 5, 5, 9, 9, 2, 1, 0, 8, 0, 6, 2, 5, 5, 4, 5, 3, 7, 0,\n",
       "       9, 9, 0, 8, 7, 9, 7, 6, 4, 7, 1, 2, 0, 0, 5, 3, 9, 3, 2, 4, 6, 7,\n",
       "       5, 3, 0, 5, 2, 7, 0, 7, 8, 6, 6, 6, 2, 1, 0, 6, 7, 4, 1, 8, 1, 3,\n",
       "       2, 7, 5, 0, 6, 8, 4, 2, 2, 3, 7, 8, 8, 0, 8, 5, 7, 2, 1, 1, 1, 5,\n",
       "       1, 9, 2, 2, 2, 4, 0, 1, 5, 5, 7, 6, 1, 5, 8, 0, 3, 3, 1, 6, 0, 5,\n",
       "       7, 0, 3, 1, 7, 8, 2, 0, 0, 6, 2, 9, 6, 8, 7, 1, 6, 3, 4, 9, 1, 4,\n",
       "       5, 3, 1, 3, 9, 5, 2, 4, 5, 2, 8, 2, 4, 3, 8, 7, 1, 5, 0, 1, 3, 2,\n",
       "       4, 1, 5, 3, 8, 7, 6, 4, 4, 9, 7, 5, 7, 3, 2, 8, 1, 8, 1, 3, 6, 4,\n",
       "       8, 4, 7, 9, 8, 2, 7, 9, 9, 4, 7, 9, 7, 6, 6, 3, 2, 8, 0, 8, 4, 6,\n",
       "       5, 7, 6, 1, 4, 6, 4, 2, 5, 0, 1, 7, 5, 3, 8, 7, 3, 1, 3, 0, 2, 5,\n",
       "       4, 9, 9, 4, 5, 5, 9, 6, 6, 5, 4, 9, 9, 9, 3, 1, 3, 1, 1, 4, 2, 9,\n",
       "       9, 9, 7, 3, 3, 7, 4, 8, 7, 2, 1, 4, 6, 1, 1, 3, 3, 9, 7, 2, 4, 3,\n",
       "       2, 2, 7, 6, 1, 4, 8, 7, 7, 0, 6, 0, 8, 8, 7, 6, 4, 1, 6, 8, 6, 6,\n",
       "       1, 3, 0, 6, 2, 3, 8, 9, 7, 2, 3, 9, 3, 7, 4, 4, 3, 1, 7, 8, 1, 0,\n",
       "       4, 4, 1, 5, 3, 9, 5, 9, 8, 5, 7, 7])"
      ]
     },
     "execution_count": 30,
     "metadata": {},
     "output_type": "execute_result"
    }
   ],
   "source": [
    "y_pred = rf.predict(X_test)\n",
    "y_pred"
   ]
  },
  {
   "cell_type": "markdown",
   "id": "f77f642b",
   "metadata": {},
   "source": [
    "## MODEL ACCURACY"
   ]
  },
  {
   "cell_type": "code",
   "execution_count": 32,
   "id": "e50b89de",
   "metadata": {},
   "outputs": [
    {
     "data": {
      "text/plain": [
       "array([[55,  0,  0,  0,  0,  0,  0,  0,  1,  0],\n",
       "       [ 0, 57,  0,  0,  0,  0,  0,  0,  0,  0],\n",
       "       [ 0,  0, 49,  0,  0,  0,  0,  0,  0,  0],\n",
       "       [ 0,  0,  0, 59,  0,  1,  0,  0,  1,  0],\n",
       "       [ 0,  0,  0,  0, 55,  0,  0,  2,  0,  1],\n",
       "       [ 0,  0,  0,  0,  0, 46,  0,  0,  1,  0],\n",
       "       [ 0,  0,  0,  0,  0,  0, 48,  0,  1,  0],\n",
       "       [ 0,  0,  0,  0,  0,  0,  0, 52,  0,  1],\n",
       "       [ 0,  2,  1,  0,  0,  0,  0,  0, 45,  0],\n",
       "       [ 0,  1,  0,  0,  0,  0,  0,  2,  2, 57]], dtype=int64)"
      ]
     },
     "execution_count": 32,
     "metadata": {},
     "output_type": "execute_result"
    }
   ],
   "source": [
    "from sklearn.metrics import confusion_matrix, classification_report\n",
    "confusion_matrix(y_test,y_pred)"
   ]
  },
  {
   "cell_type": "code",
   "execution_count": 33,
   "id": "97f34d6f",
   "metadata": {},
   "outputs": [
    {
     "name": "stdout",
     "output_type": "stream",
     "text": [
      "              precision    recall  f1-score   support\n",
      "\n",
      "           0       1.00      0.98      0.99        56\n",
      "           1       0.95      1.00      0.97        57\n",
      "           2       0.98      1.00      0.99        49\n",
      "           3       1.00      0.97      0.98        61\n",
      "           4       1.00      0.95      0.97        58\n",
      "           5       0.98      0.98      0.98        47\n",
      "           6       1.00      0.98      0.99        49\n",
      "           7       0.93      0.98      0.95        53\n",
      "           8       0.88      0.94      0.91        48\n",
      "           9       0.97      0.92      0.94        62\n",
      "\n",
      "    accuracy                           0.97       540\n",
      "   macro avg       0.97      0.97      0.97       540\n",
      "weighted avg       0.97      0.97      0.97       540\n",
      "\n"
     ]
    }
   ],
   "source": [
    "print(classification_report(y_test, y_pred))"
   ]
  },
  {
   "cell_type": "code",
   "execution_count": null,
   "id": "86a81f18",
   "metadata": {},
   "outputs": [],
   "source": []
  }
 ],
 "metadata": {
  "kernelspec": {
   "display_name": "Python 3 (ipykernel)",
   "language": "python",
   "name": "python3"
  },
  "language_info": {
   "codemirror_mode": {
    "name": "ipython",
    "version": 3
   },
   "file_extension": ".py",
   "mimetype": "text/x-python",
   "name": "python",
   "nbconvert_exporter": "python",
   "pygments_lexer": "ipython3",
   "version": "3.9.12"
  }
 },
 "nbformat": 4,
 "nbformat_minor": 5
}
